{
  "nbformat": 4,
  "nbformat_minor": 0,
  "metadata": {
    "kernelspec": {
      "display_name": "Python 3",
      "language": "python",
      "name": "python3"
    },
    "language_info": {
      "codemirror_mode": {
        "name": "ipython",
        "version": 3
      },
      "file_extension": ".py",
      "mimetype": "text/x-python",
      "name": "python",
      "nbconvert_exporter": "python",
      "pygments_lexer": "ipython3",
      "version": "3.6.6"
    },
    "colab": {
      "name": "FINAL_Malaria_vgg16_training.ipynb",
      "provenance": [],
      "collapsed_sections": []
    },
    "accelerator": "GPU"
  },
  "cells": [
    {
      "cell_type": "code",
      "metadata": {
        "id": "z_8LCVz4PXnS",
        "colab_type": "code",
        "colab": {
          "base_uri": "https://localhost:8080/",
          "height": 170
        },
        "outputId": "7a2042f4-11f1-487b-f3cc-65225d40e3bf"
      },
      "source": [
        "! pip install patool\n",
        "import patoolib\n",
        "patoolib.extract_archive('/content/drive/My Drive/cell-images-for detecting -malaria.zip',outdir='/content/malaria')"
      ],
      "execution_count": null,
      "outputs": [
        {
          "output_type": "stream",
          "text": [
            "Collecting patool\n",
            "\u001b[?25l  Downloading https://files.pythonhosted.org/packages/43/94/52243ddff508780dd2d8110964320ab4851134a55ab102285b46e740f76a/patool-1.12-py2.py3-none-any.whl (77kB)\n",
            "\r\u001b[K     |████▎                           | 10kB 30.6MB/s eta 0:00:01\r\u001b[K     |████████▌                       | 20kB 6.0MB/s eta 0:00:01\r\u001b[K     |████████████▊                   | 30kB 7.0MB/s eta 0:00:01\r\u001b[K     |█████████████████               | 40kB 7.7MB/s eta 0:00:01\r\u001b[K     |█████████████████████▏          | 51kB 6.9MB/s eta 0:00:01\r\u001b[K     |█████████████████████████▍      | 61kB 7.9MB/s eta 0:00:01\r\u001b[K     |█████████████████████████████▋  | 71kB 8.1MB/s eta 0:00:01\r\u001b[K     |████████████████████████████████| 81kB 5.5MB/s \n",
            "\u001b[?25hInstalling collected packages: patool\n",
            "Successfully installed patool-1.12\n",
            "patool: Extracting /content/drive/My Drive/cell-images-for detecting -malaria.zip ...\n",
            "patool: running /usr/bin/7z x -o/content/malaria -- \"/content/drive/My Drive/cell-images-for detecting -malaria.zip\"\n",
            "patool: ... /content/drive/My Drive/cell-images-for detecting -malaria.zip extracted to `/content/malaria'.\n"
          ],
          "name": "stdout"
        },
        {
          "output_type": "execute_result",
          "data": {
            "text/plain": [
              "'/content/malaria'"
            ]
          },
          "metadata": {
            "tags": []
          },
          "execution_count": 2
        }
      ]
    },
    {
      "cell_type": "code",
      "metadata": {
        "_cell_guid": "b1076dfc-b9ad-4769-8c92-a6c4dae69d19",
        "_uuid": "8f2839f25d086af736a60e9eeb907d3b93b6e0e5",
        "id": "ClThTkxwOjry",
        "colab_type": "code",
        "colab": {
          "base_uri": "https://localhost:8080/",
          "height": 34
        },
        "outputId": "64437dff-3ec8-43f9-fe26-46d0d0d5f161"
      },
      "source": [
        "# This Python 3 environment comes with many helpful analytics libraries installed\n",
        "# It is defined by the kaggle/python docker image: https://github.com/kaggle/docker-python\n",
        "# For example, here's several helpful packages to load in \n",
        "\n",
        "import numpy as np # linear algebra\n",
        "import pandas as pd # data processing, CSV file I/O (e.g. pd.read_csv)\n",
        "\n",
        "# Input data files are available in the \"../input/\" directory.\n",
        "# For example, running this (by clicking run or pressing Shift+Enter) will list the files in the input directory\n",
        "\n",
        "import os\n",
        "print(os.listdir(\"/content/malaria/cell_images\"))\n",
        "\n",
        "# Any results you write to the current directory are saved as output."
      ],
      "execution_count": null,
      "outputs": [
        {
          "output_type": "stream",
          "text": [
            "['Parasitized', 'cell_images', 'Uninfected']\n"
          ],
          "name": "stdout"
        }
      ]
    },
    {
      "cell_type": "code",
      "metadata": {
        "_uuid": "59c8fbc36e71ab5539bd1cc6034cf6886638c35c",
        "id": "vgxizaKmOjsB",
        "colab_type": "code",
        "colab": {
          "base_uri": "https://localhost:8080/",
          "height": 88
        },
        "outputId": "4d0f2ff4-3c66-4f9d-cdf2-e344a725d11e"
      },
      "source": [
        "import cv2\n",
        "import matplotlib.pyplot as plt \n",
        "import seaborn as sns\n",
        "import os\n",
        "from PIL import Image\n",
        "from keras.preprocessing.image import img_to_array\n",
        "from keras.preprocessing.image import load_img\n",
        "from keras.utils import np_utils"
      ],
      "execution_count": null,
      "outputs": [
        {
          "output_type": "stream",
          "text": [
            "/usr/local/lib/python3.6/dist-packages/statsmodels/tools/_testing.py:19: FutureWarning: pandas.util.testing is deprecated. Use the functions in the public API at pandas.testing instead.\n",
            "  import pandas.util.testing as tm\n",
            "Using TensorFlow backend.\n"
          ],
          "name": "stderr"
        }
      ]
    },
    {
      "cell_type": "code",
      "metadata": {
        "_uuid": "7a661de01863787c99ada83afa636f8b3a9670f0",
        "id": "wOEgQASrOjsI",
        "colab_type": "code",
        "colab": {
          "base_uri": "https://localhost:8080/",
          "height": 105
        },
        "outputId": "bd4bd0c1-9c63-4f88-826a-b3f8b8f8dda4"
      },
      "source": [
        "parasitized_data = os.listdir('/content/malaria/cell_images/cell_images/Parasitized')\n",
        "print(parasitized_data[:10]) #the output we get are the .png files\n",
        "\n",
        "uninfected_data = os.listdir('/content/malaria/cell_images/cell_images/Uninfected')\n",
        "print('\\n')\n",
        "print(uninfected_data[:10])"
      ],
      "execution_count": null,
      "outputs": [
        {
          "output_type": "stream",
          "text": [
            "['C176P137NThinF_IMG_20151201_121030_cell_20.png', 'C128P89ThinF_IMG_20151004_131231_cell_155.png', 'C137P98ThinF_IMG_20151005_163946_cell_17.png', 'C182P143NThinF_IMG_20151201_172257_cell_175.png', 'C56P17thinF_IMG_20150728_160537_cell_153.png', 'C183P144NThinF_IMG_20151201_223208_cell_122.png', 'C120P81ThinF_IMG_20151002_130150_cell_206.png', 'C129P90ThinF_IMG_20151004_134700_cell_11.png', 'C68P29N_ThinF_IMG_20150819_133236_cell_168.png', 'C70P31_ThinF_IMG_20150813_131609_cell_93.png']\n",
            "\n",
            "\n",
            "['C112P73ThinF_IMG_20150930_131659_cell_54.png', 'C152P113ThinF_IMG_20151115_124853_cell_112.png', 'C79P40ThinF_IMG_20150817_104316_cell_55.png', 'C106P67ThinF_IMG_20150924_102413_cell_85.png', 'C133P94ThinF_IMG_20151004_154717_cell_90.png', 'C45P6ThinF_IMG_20151130_160135_cell_199.png', 'C142P103ThinF_IMG_20151005_222440_cell_49.png', 'C239ThinF_IMG_20151127_113008_cell_146.png', 'C91P52ThinF_IMG_20150821_124739_cell_11.png', 'C237ThinF_IMG_20151127_104954_cell_76.png']\n"
          ],
          "name": "stdout"
        }
      ]
    },
    {
      "cell_type": "markdown",
      "metadata": {
        "_uuid": "98ecd2e083d5c3bfc8158465e732a5fe042af8e1",
        "id": "zvOZTc6aOjsS",
        "colab_type": "text"
      },
      "source": [
        "**DATA VISUALIZATION**[](http://)"
      ]
    },
    {
      "cell_type": "markdown",
      "metadata": {
        "_uuid": "3c24deb9b2a4feed37e9f5a5814c799ecbd5894d",
        "id": "72yncYcfOjsT",
        "colab_type": "text"
      },
      "source": [
        "**1. PARASITIZED DATA**"
      ]
    },
    {
      "cell_type": "code",
      "metadata": {
        "_uuid": "6ba57170ddc6430f931117c37042d41d00e7b5ac",
        "id": "0J1FtIvVOjsV",
        "colab_type": "code",
        "colab": {
          "base_uri": "https://localhost:8080/",
          "height": 259
        },
        "outputId": "b575b193-69c6-4786-e789-bfac72932387"
      },
      "source": [
        "plt.figure(figsize = (12,12))\n",
        "for i in range(4):\n",
        "    plt.subplot(1, 4, i+1)\n",
        "    img = cv2.imread('/content/malaria/cell_images/cell_images/Parasitized' + \"/\" + parasitized_data[i])\n",
        "    plt.imshow(img)\n",
        "    plt.title('PARASITIZED : 1')\n",
        "    plt.tight_layout()\n",
        "plt.show()"
      ],
      "execution_count": null,
      "outputs": [
        {
          "output_type": "display_data",
          "data": {
            "image/png": "[encoded data removed]",
            "text/plain": [
              "<Figure size 864x864 with 4 Axes>"
            ]
          },
          "metadata": {
            "tags": [],
            "needs_background": "light"
          }
        }
      ]
    },
    {
      "cell_type": "markdown",
      "metadata": {
        "_uuid": "c66b93bf1a700ac0b4c7b8c9dea872ce796f11a4",
        "id": "syvJz2B7Ojsc",
        "colab_type": "text"
      },
      "source": [
        "**2. UNINFECTTED DATA**"
      ]
    },
    {
      "cell_type": "code",
      "metadata": {
        "_uuid": "77567eb7e5a644c03498b58bfa38143c1035e211",
        "id": "8GkjQXCFOjsf",
        "colab_type": "code",
        "colab": {
          "base_uri": "https://localhost:8080/",
          "height": 249
        },
        "outputId": "0896feb7-9c0c-420b-97f8-9a6941f6fa48"
      },
      "source": [
        "plt.figure(figsize = (12,12))\n",
        "for i in range(4):\n",
        "    plt.subplot(1, 4, i+1)\n",
        "    img = cv2.imread('/content/malaria/cell_images/cell_images/Uninfected' + \"/\" + uninfected_data[i+1])\n",
        "    plt.imshow(img)\n",
        "    plt.title('UNINFECTED : 0')\n",
        "    plt.tight_layout()\n",
        "plt.show()"
      ],
      "execution_count": null,
      "outputs": [
        {
          "output_type": "display_data",
          "data": {
            "image/png": "[encoded data removed]",
            "text/plain": [
              "<Figure size 864x864 with 4 Axes>"
            ]
          },
          "metadata": {
            "tags": [],
            "needs_background": "light"
          }
        }
      ]
    },
    {
      "cell_type": "markdown",
      "metadata": {
        "_uuid": "058cb142b10476e43251c572bc466daefcd8f133",
        "id": "q8nkttt3Ojsr",
        "colab_type": "text"
      },
      "source": [
        "**One can clearly see the difference between the infected and uninfected. You can observe a small clot inside the cellular image for infected while for the uninfected the cellular image is clean without any clots.**"
      ]
    },
    {
      "cell_type": "code",
      "metadata": {
        "_uuid": "89f4f863573c25855f53a7c5d2b35971789d7e88",
        "id": "cnpLVyTJOjst",
        "colab_type": "code",
        "colab": {}
      },
      "source": [
        "data = []\n",
        "labels = []\n",
        "for img in parasitized_data:\n",
        "    try:\n",
        "        img_read = plt.imread('/content/malaria/cell_images/cell_images/Parasitized' + \"/\" + img)\n",
        "        img_resize = cv2.resize(img_read, (50, 50))\n",
        "        img_array = img_to_array(img_resize)\n",
        "        data.append(img_array)\n",
        "        labels.append(1)\n",
        "    except:\n",
        "        None\n",
        "        \n",
        "for img in uninfected_data:\n",
        "    try:\n",
        "        img_read = plt.imread('/content/malaria/cell_images/cell_images/Uninfected' + \"/\" + img)\n",
        "        img_resize = cv2.resize(img_read, (50, 50))\n",
        "        img_array = img_to_array(img_resize)\n",
        "        data.append(img_array)\n",
        "        labels.append(0)\n",
        "    except:\n",
        "        None"
      ],
      "execution_count": null,
      "outputs": []
    },
    {
      "cell_type": "code",
      "metadata": {
        "_uuid": "edb2d2f12c9f683c12f546741ec50f0512a49b5c",
        "id": "8PjOMNkrOjs7",
        "colab_type": "code",
        "colab": {
          "base_uri": "https://localhost:8080/",
          "height": 267
        },
        "outputId": "a9b00b91-1c07-4da9-820a-c93008aa1dfe"
      },
      "source": [
        "plt.imshow(data[0])\n",
        "plt.show()"
      ],
      "execution_count": null,
      "outputs": [
        {
          "output_type": "display_data",
          "data": {
            "image/png": "[encoded data removed]",
            "text/plain": [
              "<Figure size 432x288 with 1 Axes>"
            ]
          },
          "metadata": {
            "tags": [],
            "needs_background": "light"
          }
        }
      ]
    },
    {
      "cell_type": "code",
      "metadata": {
        "_uuid": "a610fb95dcf4f138e0484348297116429563af89",
        "id": "UPHf4BRLOjtG",
        "colab_type": "code",
        "colab": {}
      },
      "source": [
        "image_data = np.array(data)\n",
        "labels = np.array(labels)"
      ],
      "execution_count": null,
      "outputs": []
    },
    {
      "cell_type": "code",
      "metadata": {
        "_uuid": "8e7e836f2f44aac1151fe7ceabac77f9d1795cc9",
        "id": "YnkKbXvlOjtO",
        "colab_type": "code",
        "colab": {}
      },
      "source": [
        "idx = np.arange(image_data.shape[0])\n",
        "np.random.shuffle(idx)\n",
        "image_data = image_data[idx]\n",
        "labels = labels[idx]"
      ],
      "execution_count": null,
      "outputs": []
    },
    {
      "cell_type": "code",
      "metadata": {
        "_uuid": "e6951926a19ee22f750e522b71e682e2bedef338",
        "id": "W0-FalhSOjtY",
        "colab_type": "code",
        "colab": {}
      },
      "source": [
        "from sklearn.model_selection import train_test_split\n",
        "x_train, x_test, y_train, y_test = train_test_split(image_data, labels, test_size = 0.3, random_state = 101, stratify=labels)"
      ],
      "execution_count": null,
      "outputs": []
    },
    {
      "cell_type": "code",
      "metadata": {
        "_uuid": "3bf22f4982ba4f15f2f89307568f09fdcfa852ee",
        "id": "oiNSw0tlOjth",
        "colab_type": "code",
        "colab": {}
      },
      "source": [
        "y_train = np_utils.to_categorical(y_train, num_classes = 2)\n",
        "y_test = np_utils.to_categorical(y_test, num_classes = 2)"
      ],
      "execution_count": null,
      "outputs": []
    },
    {
      "cell_type": "code",
      "metadata": {
        "_uuid": "e9125664ed8cde29e36576928e32900fd200564e",
        "id": "J0UQgMafOjtr",
        "colab_type": "code",
        "colab": {
          "base_uri": "https://localhost:8080/",
          "height": 85
        },
        "outputId": "098bc924-b94b-42b9-c018-34548ebc1d36"
      },
      "source": [
        "print(f'SHAPE OF TRAINING IMAGE DATA : {x_train.shape}')\n",
        "print(f'SHAPE OF TESTING IMAGE DATA : {x_test.shape}')\n",
        "print(f'SHAPE OF TRAINING LABELS : {y_train.shape}')\n",
        "print(f'SHAPE OF TESTING LABELS : {y_test.shape}')"
      ],
      "execution_count": null,
      "outputs": [
        {
          "output_type": "stream",
          "text": [
            "SHAPE OF TRAINING IMAGE DATA : (19290, 50, 50, 3)\n",
            "SHAPE OF TESTING IMAGE DATA : (8268, 50, 50, 3)\n",
            "SHAPE OF TRAINING LABELS : (19290, 2)\n",
            "SHAPE OF TESTING LABELS : (8268, 2)\n"
          ],
          "name": "stdout"
        }
      ]
    },
    {
      "cell_type": "markdown",
      "metadata": {
        "_uuid": "c95d884fcef6181a57a0993b5584c83ca7781f49",
        "id": "rmCU3f-SOjtz",
        "colab_type": "text"
      },
      "source": [
        "* **BUILDING THE CNN MODEL (without data augmentation)**"
      ]
    },
    {
      "cell_type": "code",
      "metadata": {
        "_uuid": "866a4e2b75a07372b76a747095795f26707d11ed",
        "id": "O8gnz5SROjt2",
        "colab_type": "code",
        "colab": {}
      },
      "source": [
        "import keras\n",
        "from keras.layers import Dense, Conv2D\n",
        "from keras.layers import Flatten\n",
        "from keras.layers import MaxPooling2D, GlobalAveragePooling2D\n",
        "from keras.layers import Activation\n",
        "from keras.layers import BatchNormalization\n",
        "from keras.layers import Dropout\n",
        "from keras.models import Sequential\n",
        "from keras import backend as K\n",
        "\n",
        "from keras import optimizers"
      ],
      "execution_count": null,
      "outputs": []
    },
    {
      "cell_type": "code",
      "metadata": {
        "id": "cZjYF1t5Un0P",
        "colab_type": "code",
        "colab": {}
      },
      "source": [
        "from keras import applications\n",
        "from keras.preprocessing.image import ImageDataGenerator\n",
        "from keras import optimizers\n",
        "from keras.models import Sequential\n",
        "from keras.layers import Dense,Input,MaxPool2D,Activation,Dropout,Flatten\n",
        "from keras.layers.convolutional import Conv2D\n",
        "from keras.layers.pooling import MaxPooling2D\n",
        "from keras_preprocessing.image import ImageDataGenerator\n",
        "from keras.models import Model\n",
        "from keras.layers import Input, Dense\n",
        "import keras\n",
        "import datetime\n",
        "import pandas as pd\n",
        "import numpy as np"
      ],
      "execution_count": null,
      "outputs": []
    },
    {
      "cell_type": "code",
      "metadata": {
        "id": "V-gSahn2SYO2",
        "colab_type": "code",
        "colab": {}
      },
      "source": [
        "from keras.preprocessing.image import ImageDataGenerator"
      ],
      "execution_count": null,
      "outputs": []
    },
    {
      "cell_type": "code",
      "metadata": {
        "id": "w0STbiKkSYNW",
        "colab_type": "code",
        "colab": {}
      },
      "source": [
        "train_datagen = ImageDataGenerator(rescale = 1/255.,\n",
        "                                  horizontal_flip = True,\n",
        "                                  width_shift_range = 0.2,\n",
        "                                  height_shift_range = 0.2,\n",
        "                                  fill_mode = 'nearest',\n",
        "                                  zoom_range = 0.3,\n",
        "                                  rotation_range = 180)\n",
        "val_datagen = ImageDataGenerator(rescale = 1/255.)\n",
        "\n",
        "train_generator = train_datagen.flow(x_train, y_train, batch_size = 64, shuffle = True)\n",
        "val_generator = val_datagen.flow(x_test, y_test, batch_size = 64, shuffle = True)"
      ],
      "execution_count": null,
      "outputs": []
    },
    {
      "cell_type": "code",
      "metadata": {
        "id": "A5sUpmdHSYLE",
        "colab_type": "code",
        "colab": {}
      },
      "source": [
        "%load_ext tensorboard"
      ],
      "execution_count": null,
      "outputs": []
    },
    {
      "cell_type": "code",
      "metadata": {
        "id": "3zd0jaEvYLXP",
        "colab_type": "code",
        "colab": {}
      },
      "source": [
        "!rm -rf ./logs/"
      ],
      "execution_count": null,
      "outputs": []
    },
    {
      "cell_type": "code",
      "metadata": {
        "id": "d50i7YK8YL0Z",
        "colab_type": "code",
        "colab": {}
      },
      "source": [
        "keras.backend.clear_session()"
      ],
      "execution_count": null,
      "outputs": []
    },
    {
      "cell_type": "markdown",
      "metadata": {
        "_uuid": "97e629b8a2b231d825af4afabe73f0f658e48a1f",
        "id": "LyGZAuKlOjuu",
        "colab_type": "text"
      },
      "source": [
        "**WITH DATA AUGMENTATION**"
      ]
    },
    {
      "cell_type": "code",
      "metadata": {
        "_uuid": "f161b132cd2f7df5ac6124fe9c1629131fd3a105",
        "id": "crsbfqpcOjuw",
        "colab_type": "code",
        "colab": {}
      },
      "source": [
        "from keras.preprocessing.image import ImageDataGenerator"
      ],
      "execution_count": null,
      "outputs": []
    },
    {
      "cell_type": "code",
      "metadata": {
        "id": "17TbBTAqcaTw",
        "colab_type": "code",
        "colab": {
          "base_uri": "https://localhost:8080/",
          "height": 122
        },
        "outputId": "f406076f-508c-4c9f-d625-dcad3e019569"
      },
      "source": [
        "from google.colab import drive\n",
        "drive.mount('/content/drive')"
      ],
      "execution_count": null,
      "outputs": [
        {
          "output_type": "stream",
          "text": [
            "Go to this URL in a browser: https://accounts.google.com/o/oauth2/auth?client_id=947318989803-6bn6qk8qdgf4n4g3pfee6491hc0brc4i.apps.googleusercontent.com&redirect_uri=urn%3aietf%3awg%3aoauth%3a2.0%3aoob&response_type=code&scope=email%20https%3a%2f%2fwww.googleapis.com%2fauth%2fdocs.test%20https%3a%2f%2fwww.googleapis.com%2fauth%2fdrive%20https%3a%2f%2fwww.googleapis.com%2fauth%2fdrive.photos.readonly%20https%3a%2f%2fwww.googleapis.com%2fauth%2fpeopleapi.readonly\n",
            "\n",
            "Enter your authorization code:\n",
            "··········\n",
            "Mounted at /content/drive\n"
          ],
          "name": "stdout"
        }
      ]
    },
    {
      "cell_type": "code",
      "metadata": {
        "_uuid": "e7325b34eeda560b852ee8ea29b1ed5782df82ea",
        "id": "9Df-NpQ6Oju5",
        "colab_type": "code",
        "colab": {}
      },
      "source": [
        "train_datagen = ImageDataGenerator(rescale = 1/255.,\n",
        "                                  horizontal_flip = True,\n",
        "                                  width_shift_range = 0.2,\n",
        "                                  height_shift_range = 0.2,\n",
        "                                  fill_mode = 'nearest',\n",
        "                                  zoom_range = 0.3,\n",
        "                                  rotation_range = 180)\n",
        "val_datagen = ImageDataGenerator(rescale = 1/255.)\n",
        "\n",
        "train_generator = train_datagen.flow(x_train, y_train, batch_size = 64, shuffle = False)\n",
        "val_generator = val_datagen.flow(x_test, y_test, batch_size = 64, shuffle = False)"
      ],
      "execution_count": null,
      "outputs": []
    },
    {
      "cell_type": "code",
      "metadata": {
        "_uuid": "995c0798092409f4e32b68ea208cbe5a7eece0b5",
        "id": "CBvNSml6Oju_",
        "colab_type": "code",
        "colab": {
          "base_uri": "https://localhost:8080/",
          "height": 34
        },
        "outputId": "4f499993-460e-4d13-bbf9-fca71ed7057e"
      },
      "source": [
        "'''#calling the same model as above\n",
        "model= CNNbuild(height = height, width = width, classes = classes, channels = channels)'''"
      ],
      "execution_count": null,
      "outputs": [
        {
          "output_type": "execute_result",
          "data": {
            "text/plain": [
              "'#calling the same model as above\\nmodel= CNNbuild(height = height, width = width, classes = classes, channels = channels)'"
            ]
          },
          "metadata": {
            "tags": []
          },
          "execution_count": 78
        }
      ]
    },
    {
      "cell_type": "code",
      "metadata": {
        "_uuid": "7d74920e2625f07d8975312eac2bf76cc8cc9580",
        "id": "QFWTDqDqOjvH",
        "colab_type": "code",
        "colab": {}
      },
      "source": [
        "'''#compile the model\n",
        "optim = optimizers.Adam(lr = 0.001, decay = 0.001 / 64)\n",
        "model.compile(loss = 'categorical_crossentropy', optimizer = optim, metrics = ['accuracy'])'''"
      ],
      "execution_count": null,
      "outputs": []
    },
    {
      "cell_type": "code",
      "metadata": {
        "id": "nXpdqud-ZvTA",
        "colab_type": "code",
        "colab": {}
      },
      "source": [
        "'''from keras.callbacks import ModelCheckpoint\n",
        "filepath=\"model_save/my_model.h5\"\n",
        "checkpoint = ModelCheckpoint(filepath=filepath, monitor='val_accuracy',  verbose=1, save_best_only=True, mode='auto')'''"
      ],
      "execution_count": null,
      "outputs": []
    },
    {
      "cell_type": "code",
      "metadata": {
        "id": "Z9TbYkX_yJ7y",
        "colab_type": "code",
        "colab": {}
      },
      "source": [
        "del model"
      ],
      "execution_count": null,
      "outputs": []
    },
    {
      "cell_type": "code",
      "metadata": {
        "id": "XGeOgj3kxl2Y",
        "colab_type": "code",
        "colab": {
          "base_uri": "https://localhost:8080/",
          "height": 163
        },
        "outputId": "92baabda-9f0a-462e-8010-82af62058e69"
      },
      "source": [
        "model.summary()"
      ],
      "execution_count": null,
      "outputs": [
        {
          "output_type": "error",
          "ename": "NameError",
          "evalue": "ignored",
          "traceback": [
            "\u001b[0;31m---------------------------------------------------------------------------\u001b[0m",
            "\u001b[0;31mNameError\u001b[0m                                 Traceback (most recent call last)",
            "\u001b[0;32m<ipython-input-45-5f15418b3570>\u001b[0m in \u001b[0;36m<module>\u001b[0;34m()\u001b[0m\n\u001b[0;32m----> 1\u001b[0;31m \u001b[0mmodel\u001b[0m\u001b[0;34m.\u001b[0m\u001b[0msummary\u001b[0m\u001b[0;34m(\u001b[0m\u001b[0;34m)\u001b[0m\u001b[0;34m\u001b[0m\u001b[0;34m\u001b[0m\u001b[0m\n\u001b[0m",
            "\u001b[0;31mNameError\u001b[0m: name 'model' is not defined"
          ]
        }
      ]
    },
    {
      "cell_type": "code",
      "metadata": {
        "id": "df66LF22buhh",
        "colab_type": "code",
        "colab": {
          "base_uri": "https://localhost:8080/",
          "height": 629
        },
        "outputId": "9033da05-de74-4c53-d924-1e66cb2608b3"
      },
      "source": [
        "#pretrained CNN and left over model\n",
        "def CNNbuild(height, width, classes, channels):\n",
        "    model = Sequential()\n",
        "    \n",
        "    inputShape = (height, width, channels)\n",
        "    chanDim = -1\n",
        "    from keras.applications.vgg16 import VGG16\n",
        "    from keras import models\n",
        "\n",
        "    if K.image_data_format() == 'channels_first':\n",
        "        inputShape = (channels, height, width)\n",
        "    vgg=VGG16(include_top=False, pooling='avg', weights='imagenet', input_shape=inputShape)\n",
        "    #vgg.summary()\n",
        "    from keras.layers import Dense\n",
        "\n",
        "    #leverage layers of pretrained vgg16 model\n",
        "    layer_name='block2_pool'\n",
        "    my_model=Model(inputs=vgg.input, outputs=vgg.get_layer(layer_name).output)\n",
        "\n",
        "    for layer in my_model.layers:\n",
        "      layer.trainable=False\n",
        "\n",
        "    #my_model.summary()\n",
        "    #model=models.Sequential()\n",
        "\n",
        "    model.add(my_model)\n",
        "    model.add(MaxPooling2D(2,2))\n",
        "    model.add(BatchNormalization(axis = chanDim))\n",
        "    model.add(Dropout(0.2))\n",
        "  \n",
        "    model.add(Conv2D(32, (3,3), activation = 'relu'))\n",
        "    model.add(MaxPooling2D(2,2))\n",
        "    model.add(BatchNormalization(axis = chanDim))\n",
        "    model.add(MaxPooling2D(2,2))\n",
        "    model.add(Dropout(0.2))\n",
        "\n",
        "    model.add(Flatten())\n",
        "    \n",
        "    model.add(Dense(512, activation = 'relu'))\n",
        "    model.add(BatchNormalization(axis = chanDim))\n",
        "    model.add(Dropout(0.5))\n",
        "    model.add(Dense(classes, activation = 'softmax'))\n",
        "    \n",
        "    return model\n",
        "#instantiate the model\n",
        "height = 50\n",
        "width = 50\n",
        "classes = 2\n",
        "channels = 3\n",
        "model = CNNbuild(height = height, width = width, classes = classes, channels = channels)\n",
        "model.summary()\n",
        "opt = optimizers.Adam(lr=0.001)\n",
        "model.compile(loss='categorical_crossentropy',\n",
        "              optimizer=opt,\n",
        "              metrics=['accuracy'])"
      ],
      "execution_count": null,
      "outputs": [
        {
          "output_type": "stream",
          "text": [
            "Model: \"sequential_2\"\n",
            "_________________________________________________________________\n",
            "Layer (type)                 Output Shape              Param #   \n",
            "=================================================================\n",
            "model_2 (Model)              (None, 12, 12, 128)       260160    \n",
            "_________________________________________________________________\n",
            "max_pooling2d_4 (MaxPooling2 (None, 6, 6, 128)         0         \n",
            "_________________________________________________________________\n",
            "batch_normalization_4 (Batch (None, 6, 6, 128)         512       \n",
            "_________________________________________________________________\n",
            "dropout_4 (Dropout)          (None, 6, 6, 128)         0         \n",
            "_________________________________________________________________\n",
            "conv2d_2 (Conv2D)            (None, 4, 4, 32)          36896     \n",
            "_________________________________________________________________\n",
            "max_pooling2d_5 (MaxPooling2 (None, 2, 2, 32)          0         \n",
            "_________________________________________________________________\n",
            "batch_normalization_5 (Batch (None, 2, 2, 32)          128       \n",
            "_________________________________________________________________\n",
            "max_pooling2d_6 (MaxPooling2 (None, 1, 1, 32)          0         \n",
            "_________________________________________________________________\n",
            "dropout_5 (Dropout)          (None, 1, 1, 32)          0         \n",
            "_________________________________________________________________\n",
            "flatten_2 (Flatten)          (None, 32)                0         \n",
            "_________________________________________________________________\n",
            "dense_3 (Dense)              (None, 512)               16896     \n",
            "_________________________________________________________________\n",
            "batch_normalization_6 (Batch (None, 512)               2048      \n",
            "_________________________________________________________________\n",
            "dropout_6 (Dropout)          (None, 512)               0         \n",
            "_________________________________________________________________\n",
            "dense_4 (Dense)              (None, 2)                 1026      \n",
            "=================================================================\n",
            "Total params: 317,666\n",
            "Trainable params: 56,162\n",
            "Non-trainable params: 261,504\n",
            "_________________________________________________________________\n"
          ],
          "name": "stdout"
        }
      ]
    },
    {
      "cell_type": "code",
      "metadata": {
        "id": "gahN2IrVYzPQ",
        "colab_type": "code",
        "colab": {
          "base_uri": "https://localhost:8080/",
          "height": 1000
        },
        "outputId": "9db2ec74-541b-461d-ef80-f3806144bbaf"
      },
      "source": [
        "'''log_dir=\"logs/fit/\" + datetime.datetime.now().strftime(\"%Y%m%d-%H%M%S\")\n",
        "tensorboard_callback = keras.callbacks.TensorBoard(log_dir=log_dir,histogram_freq=1, write_graph=True)'''\n",
        "\n",
        "STEP_SIZE_TRAIN=train_generator.n//train_generator.batch_size\n",
        "STEP_SIZE_VALID=val_generator.n//val_generator.batch_size\n",
        "model.fit_generator(generator=train_generator,\n",
        "                    steps_per_epoch=STEP_SIZE_TRAIN,\n",
        "                    validation_data=val_generator,\n",
        "                    validation_steps=STEP_SIZE_VALID, #callbacks=[tensorboard_callback,checkpoint],\n",
        "                    epochs=300)"
      ],
      "execution_count": null,
      "outputs": [
        {
          "output_type": "stream",
          "text": [
            "Epoch 1/300\n",
            "301/301 [==============================] - 17s 57ms/step - loss: 0.2804 - accuracy: 0.8898 - val_loss: 0.1052 - val_accuracy: 0.9514\n",
            "Epoch 2/300\n",
            "301/301 [==============================] - 17s 55ms/step - loss: 0.2820 - accuracy: 0.8877 - val_loss: 0.1238 - val_accuracy: 0.9442\n",
            "Epoch 3/300\n",
            "301/301 [==============================] - 17s 55ms/step - loss: 0.2786 - accuracy: 0.8902 - val_loss: 0.1367 - val_accuracy: 0.9492\n",
            "Epoch 4/300\n",
            "301/301 [==============================] - 17s 55ms/step - loss: 0.2843 - accuracy: 0.8851 - val_loss: 0.1450 - val_accuracy: 0.9494\n",
            "Epoch 5/300\n",
            "301/301 [==============================] - 17s 55ms/step - loss: 0.2829 - accuracy: 0.8890 - val_loss: 0.1017 - val_accuracy: 0.9466\n",
            "Epoch 6/300\n",
            "301/301 [==============================] - 17s 55ms/step - loss: 0.2830 - accuracy: 0.8855 - val_loss: 0.1037 - val_accuracy: 0.9466\n",
            "Epoch 7/300\n",
            "301/301 [==============================] - 17s 55ms/step - loss: 0.2820 - accuracy: 0.8885 - val_loss: 0.1931 - val_accuracy: 0.9508\n",
            "Epoch 8/300\n",
            "301/301 [==============================] - 17s 55ms/step - loss: 0.2826 - accuracy: 0.8886 - val_loss: 0.1958 - val_accuracy: 0.9510\n",
            "Epoch 9/300\n",
            "301/301 [==============================] - 17s 55ms/step - loss: 0.2836 - accuracy: 0.8877 - val_loss: 0.2041 - val_accuracy: 0.9442\n",
            "Epoch 10/300\n",
            "301/301 [==============================] - 17s 55ms/step - loss: 0.2829 - accuracy: 0.8867 - val_loss: 0.1540 - val_accuracy: 0.9517\n",
            "Epoch 11/300\n",
            "301/301 [==============================] - 17s 55ms/step - loss: 0.2889 - accuracy: 0.8848 - val_loss: 0.0828 - val_accuracy: 0.9522\n",
            "Epoch 12/300\n",
            "301/301 [==============================] - 17s 55ms/step - loss: 0.2844 - accuracy: 0.8874 - val_loss: 0.1280 - val_accuracy: 0.9510\n",
            "Epoch 13/300\n",
            "301/301 [==============================] - 17s 55ms/step - loss: 0.2839 - accuracy: 0.8854 - val_loss: 0.1317 - val_accuracy: 0.9483\n",
            "Epoch 14/300\n",
            "301/301 [==============================] - 16s 54ms/step - loss: 0.2804 - accuracy: 0.8873 - val_loss: 0.1346 - val_accuracy: 0.9470\n",
            "Epoch 15/300\n",
            "301/301 [==============================] - 16s 55ms/step - loss: 0.2847 - accuracy: 0.8866 - val_loss: 0.1936 - val_accuracy: 0.9442\n",
            "Epoch 16/300\n",
            "301/301 [==============================] - 16s 54ms/step - loss: 0.2843 - accuracy: 0.8880 - val_loss: 0.0915 - val_accuracy: 0.9453\n",
            "Epoch 17/300\n",
            "301/301 [==============================] - 17s 55ms/step - loss: 0.2776 - accuracy: 0.8890 - val_loss: 0.1642 - val_accuracy: 0.9506\n",
            "Epoch 18/300\n",
            "301/301 [==============================] - 16s 55ms/step - loss: 0.2784 - accuracy: 0.8884 - val_loss: 0.2563 - val_accuracy: 0.9506\n",
            "Epoch 19/300\n",
            "301/301 [==============================] - 17s 55ms/step - loss: 0.2780 - accuracy: 0.8900 - val_loss: 0.0937 - val_accuracy: 0.9508\n",
            "Epoch 20/300\n",
            "301/301 [==============================] - 16s 55ms/step - loss: 0.2860 - accuracy: 0.8841 - val_loss: 0.1272 - val_accuracy: 0.9506\n",
            "Epoch 21/300\n",
            "301/301 [==============================] - 16s 54ms/step - loss: 0.2828 - accuracy: 0.8860 - val_loss: 0.1369 - val_accuracy: 0.9510\n",
            "Epoch 22/300\n",
            "301/301 [==============================] - 16s 54ms/step - loss: 0.2807 - accuracy: 0.8870 - val_loss: 0.1480 - val_accuracy: 0.9519\n",
            "Epoch 23/300\n",
            "301/301 [==============================] - 16s 55ms/step - loss: 0.2799 - accuracy: 0.8904 - val_loss: 0.1424 - val_accuracy: 0.9492\n",
            "Epoch 24/300\n",
            "301/301 [==============================] - 16s 54ms/step - loss: 0.2837 - accuracy: 0.8886 - val_loss: 0.1312 - val_accuracy: 0.9492\n",
            "Epoch 25/300\n",
            "301/301 [==============================] - 16s 55ms/step - loss: 0.2819 - accuracy: 0.8878 - val_loss: 0.1716 - val_accuracy: 0.9445\n",
            "Epoch 26/300\n",
            "301/301 [==============================] - 16s 54ms/step - loss: 0.2871 - accuracy: 0.8866 - val_loss: 0.0779 - val_accuracy: 0.9482\n",
            "Epoch 27/300\n",
            "301/301 [==============================] - 17s 55ms/step - loss: 0.2806 - accuracy: 0.8888 - val_loss: 0.1065 - val_accuracy: 0.9476\n",
            "Epoch 28/300\n",
            "301/301 [==============================] - 16s 54ms/step - loss: 0.2805 - accuracy: 0.8883 - val_loss: 0.1506 - val_accuracy: 0.9464\n",
            "Epoch 29/300\n",
            "301/301 [==============================] - 16s 54ms/step - loss: 0.2795 - accuracy: 0.8882 - val_loss: 0.0727 - val_accuracy: 0.9451\n",
            "Epoch 30/300\n",
            "301/301 [==============================] - 16s 55ms/step - loss: 0.2833 - accuracy: 0.8880 - val_loss: 0.1653 - val_accuracy: 0.9511\n",
            "Epoch 31/300\n",
            "301/301 [==============================] - 16s 55ms/step - loss: 0.2835 - accuracy: 0.8872 - val_loss: 0.1327 - val_accuracy: 0.9458\n",
            "Epoch 32/300\n",
            "301/301 [==============================] - 16s 55ms/step - loss: 0.2834 - accuracy: 0.8856 - val_loss: 0.0999 - val_accuracy: 0.9475\n",
            "Epoch 33/300\n",
            "301/301 [==============================] - 16s 55ms/step - loss: 0.2857 - accuracy: 0.8857 - val_loss: 0.2224 - val_accuracy: 0.9497\n",
            "Epoch 34/300\n",
            "301/301 [==============================] - 16s 54ms/step - loss: 0.2798 - accuracy: 0.8884 - val_loss: 0.2317 - val_accuracy: 0.9423\n",
            "Epoch 35/300\n",
            "301/301 [==============================] - 16s 54ms/step - loss: 0.2814 - accuracy: 0.8863 - val_loss: 0.1929 - val_accuracy: 0.9505\n",
            "Epoch 36/300\n",
            "301/301 [==============================] - 17s 56ms/step - loss: 0.2835 - accuracy: 0.8885 - val_loss: 0.1409 - val_accuracy: 0.9509\n",
            "Epoch 37/300\n",
            "301/301 [==============================] - 17s 55ms/step - loss: 0.2801 - accuracy: 0.8877 - val_loss: 0.1003 - val_accuracy: 0.9436\n",
            "Epoch 38/300\n",
            "301/301 [==============================] - 16s 55ms/step - loss: 0.2837 - accuracy: 0.8841 - val_loss: 0.1447 - val_accuracy: 0.9497\n",
            "Epoch 39/300\n",
            "301/301 [==============================] - 16s 54ms/step - loss: 0.2795 - accuracy: 0.8891 - val_loss: 0.1103 - val_accuracy: 0.9500\n",
            "Epoch 40/300\n",
            "301/301 [==============================] - 16s 54ms/step - loss: 0.2781 - accuracy: 0.8885 - val_loss: 0.1382 - val_accuracy: 0.9514\n",
            "Epoch 41/300\n",
            "301/301 [==============================] - 16s 54ms/step - loss: 0.2813 - accuracy: 0.8876 - val_loss: 0.1200 - val_accuracy: 0.9472\n",
            "Epoch 42/300\n",
            "301/301 [==============================] - 16s 54ms/step - loss: 0.2849 - accuracy: 0.8846 - val_loss: 0.1057 - val_accuracy: 0.9411\n",
            "Epoch 43/300\n",
            "301/301 [==============================] - 16s 54ms/step - loss: 0.2837 - accuracy: 0.8879 - val_loss: 0.1112 - val_accuracy: 0.9499\n",
            "Epoch 44/300\n",
            "301/301 [==============================] - 16s 54ms/step - loss: 0.2841 - accuracy: 0.8852 - val_loss: 0.1883 - val_accuracy: 0.9505\n",
            "Epoch 45/300\n",
            "301/301 [==============================] - 16s 54ms/step - loss: 0.2777 - accuracy: 0.8890 - val_loss: 0.1290 - val_accuracy: 0.9486\n",
            "Epoch 46/300\n",
            "301/301 [==============================] - 16s 54ms/step - loss: 0.2757 - accuracy: 0.8908 - val_loss: 0.1669 - val_accuracy: 0.9506\n",
            "Epoch 47/300\n",
            "301/301 [==============================] - 16s 54ms/step - loss: 0.2815 - accuracy: 0.8851 - val_loss: 0.0946 - val_accuracy: 0.9444\n",
            "Epoch 48/300\n",
            "301/301 [==============================] - 16s 54ms/step - loss: 0.2792 - accuracy: 0.8887 - val_loss: 0.0910 - val_accuracy: 0.9509\n",
            "Epoch 49/300\n",
            "301/301 [==============================] - 16s 54ms/step - loss: 0.2854 - accuracy: 0.8854 - val_loss: 0.1403 - val_accuracy: 0.9486\n",
            "Epoch 50/300\n",
            "301/301 [==============================] - 16s 54ms/step - loss: 0.2818 - accuracy: 0.8876 - val_loss: 0.0719 - val_accuracy: 0.9417\n",
            "Epoch 51/300\n",
            "301/301 [==============================] - 16s 54ms/step - loss: 0.2830 - accuracy: 0.8872 - val_loss: 0.1421 - val_accuracy: 0.9419\n",
            "Epoch 52/300\n",
            "301/301 [==============================] - 16s 54ms/step - loss: 0.2805 - accuracy: 0.8880 - val_loss: 0.2578 - val_accuracy: 0.9498\n",
            "Epoch 53/300\n",
            "301/301 [==============================] - 16s 54ms/step - loss: 0.2858 - accuracy: 0.8861 - val_loss: 0.1346 - val_accuracy: 0.9466\n",
            "Epoch 54/300\n",
            "301/301 [==============================] - 16s 53ms/step - loss: 0.2781 - accuracy: 0.8899 - val_loss: 0.2823 - val_accuracy: 0.9467\n",
            "Epoch 55/300\n",
            "301/301 [==============================] - 16s 55ms/step - loss: 0.2780 - accuracy: 0.8894 - val_loss: 0.0790 - val_accuracy: 0.9449\n",
            "Epoch 56/300\n",
            "301/301 [==============================] - 16s 55ms/step - loss: 0.2878 - accuracy: 0.8835 - val_loss: 0.1864 - val_accuracy: 0.9477\n",
            "Epoch 57/300\n",
            "301/301 [==============================] - 16s 54ms/step - loss: 0.2797 - accuracy: 0.8883 - val_loss: 0.1613 - val_accuracy: 0.9487\n",
            "Epoch 58/300\n",
            "301/301 [==============================] - 16s 54ms/step - loss: 0.2828 - accuracy: 0.8867 - val_loss: 0.1130 - val_accuracy: 0.9458\n",
            "Epoch 59/300\n",
            "301/301 [==============================] - 16s 54ms/step - loss: 0.2822 - accuracy: 0.8872 - val_loss: 0.1252 - val_accuracy: 0.9509\n",
            "Epoch 60/300\n",
            "301/301 [==============================] - 16s 54ms/step - loss: 0.2747 - accuracy: 0.8900 - val_loss: 0.4170 - val_accuracy: 0.9449\n",
            "Epoch 61/300\n",
            "301/301 [==============================] - 16s 54ms/step - loss: 0.2778 - accuracy: 0.8918 - val_loss: 0.1190 - val_accuracy: 0.9516\n",
            "Epoch 62/300\n",
            "301/301 [==============================] - 16s 55ms/step - loss: 0.2877 - accuracy: 0.8847 - val_loss: 0.1377 - val_accuracy: 0.9477\n",
            "Epoch 63/300\n",
            "301/301 [==============================] - 16s 54ms/step - loss: 0.2840 - accuracy: 0.8861 - val_loss: 0.1405 - val_accuracy: 0.9503\n",
            "Epoch 64/300\n",
            "301/301 [==============================] - 16s 55ms/step - loss: 0.2759 - accuracy: 0.8903 - val_loss: 0.1412 - val_accuracy: 0.9494\n",
            "Epoch 65/300\n",
            "301/301 [==============================] - 16s 55ms/step - loss: 0.2874 - accuracy: 0.8851 - val_loss: 0.2117 - val_accuracy: 0.9486\n",
            "Epoch 66/300\n",
            "301/301 [==============================] - 16s 54ms/step - loss: 0.2827 - accuracy: 0.8876 - val_loss: 0.0926 - val_accuracy: 0.9493\n",
            "Epoch 67/300\n",
            "301/301 [==============================] - 17s 55ms/step - loss: 0.2810 - accuracy: 0.8880 - val_loss: 0.0717 - val_accuracy: 0.9498\n",
            "Epoch 68/300\n",
            "301/301 [==============================] - 16s 55ms/step - loss: 0.2806 - accuracy: 0.8878 - val_loss: 0.1862 - val_accuracy: 0.9510\n",
            "Epoch 69/300\n",
            "301/301 [==============================] - 16s 54ms/step - loss: 0.2805 - accuracy: 0.8862 - val_loss: 0.1292 - val_accuracy: 0.9490\n",
            "Epoch 70/300\n",
            "301/301 [==============================] - 16s 55ms/step - loss: 0.2779 - accuracy: 0.8879 - val_loss: 0.1616 - val_accuracy: 0.9500\n",
            "Epoch 71/300\n",
            "301/301 [==============================] - 16s 54ms/step - loss: 0.2860 - accuracy: 0.8861 - val_loss: 0.1906 - val_accuracy: 0.9477\n",
            "Epoch 72/300\n",
            "301/301 [==============================] - 17s 55ms/step - loss: 0.2774 - accuracy: 0.8890 - val_loss: 0.0983 - val_accuracy: 0.9505\n",
            "Epoch 73/300\n",
            "301/301 [==============================] - 16s 55ms/step - loss: 0.2808 - accuracy: 0.8862 - val_loss: 0.2394 - val_accuracy: 0.9451\n",
            "Epoch 74/300\n",
            "301/301 [==============================] - 17s 55ms/step - loss: 0.2760 - accuracy: 0.8904 - val_loss: 0.1452 - val_accuracy: 0.9470\n",
            "Epoch 75/300\n",
            "301/301 [==============================] - 17s 55ms/step - loss: 0.2852 - accuracy: 0.8845 - val_loss: 0.2301 - val_accuracy: 0.9459\n",
            "Epoch 76/300\n",
            "301/301 [==============================] - 16s 54ms/step - loss: 0.2826 - accuracy: 0.8864 - val_loss: 0.2589 - val_accuracy: 0.9512\n",
            "Epoch 77/300\n",
            "301/301 [==============================] - 17s 55ms/step - loss: 0.2763 - accuracy: 0.8889 - val_loss: 0.2571 - val_accuracy: 0.9467\n",
            "Epoch 78/300\n",
            "301/301 [==============================] - 16s 54ms/step - loss: 0.2886 - accuracy: 0.8835 - val_loss: 0.1632 - val_accuracy: 0.9484\n",
            "Epoch 79/300\n",
            "301/301 [==============================] - 16s 54ms/step - loss: 0.2779 - accuracy: 0.8919 - val_loss: 0.1624 - val_accuracy: 0.9490\n",
            "Epoch 80/300\n",
            "301/301 [==============================] - 16s 55ms/step - loss: 0.2797 - accuracy: 0.8875 - val_loss: 0.1658 - val_accuracy: 0.9444\n",
            "Epoch 81/300\n",
            "301/301 [==============================] - 17s 55ms/step - loss: 0.2798 - accuracy: 0.8879 - val_loss: 0.0570 - val_accuracy: 0.9488\n",
            "Epoch 82/300\n",
            "301/301 [==============================] - 17s 55ms/step - loss: 0.2833 - accuracy: 0.8868 - val_loss: 0.1968 - val_accuracy: 0.9442\n",
            "Epoch 83/300\n",
            "301/301 [==============================] - 16s 55ms/step - loss: 0.2768 - accuracy: 0.8909 - val_loss: 0.1473 - val_accuracy: 0.9480\n",
            "Epoch 84/300\n",
            "301/301 [==============================] - 17s 55ms/step - loss: 0.2838 - accuracy: 0.8870 - val_loss: 0.0839 - val_accuracy: 0.9462\n",
            "Epoch 85/300\n",
            "301/301 [==============================] - 17s 55ms/step - loss: 0.2816 - accuracy: 0.8882 - val_loss: 0.0678 - val_accuracy: 0.9476\n",
            "Epoch 86/300\n",
            "301/301 [==============================] - 16s 55ms/step - loss: 0.2754 - accuracy: 0.8887 - val_loss: 0.1300 - val_accuracy: 0.9512\n",
            "Epoch 87/300\n",
            "301/301 [==============================] - 17s 55ms/step - loss: 0.2821 - accuracy: 0.8878 - val_loss: 0.1196 - val_accuracy: 0.9447\n",
            "Epoch 88/300\n",
            "301/301 [==============================] - 17s 55ms/step - loss: 0.2868 - accuracy: 0.8859 - val_loss: 0.1785 - val_accuracy: 0.9438\n",
            "Epoch 89/300\n",
            "301/301 [==============================] - 16s 55ms/step - loss: 0.2775 - accuracy: 0.8897 - val_loss: 0.1122 - val_accuracy: 0.9489\n",
            "Epoch 90/300\n",
            "301/301 [==============================] - 16s 54ms/step - loss: 0.2860 - accuracy: 0.8837 - val_loss: 0.2609 - val_accuracy: 0.9461\n",
            "Epoch 91/300\n",
            "301/301 [==============================] - 16s 55ms/step - loss: 0.2771 - accuracy: 0.8922 - val_loss: 0.1511 - val_accuracy: 0.9481\n",
            "Epoch 92/300\n",
            "301/301 [==============================] - 17s 55ms/step - loss: 0.2849 - accuracy: 0.8860 - val_loss: 0.1597 - val_accuracy: 0.9515\n",
            "Epoch 93/300\n",
            "301/301 [==============================] - 17s 56ms/step - loss: 0.2785 - accuracy: 0.8900 - val_loss: 0.1612 - val_accuracy: 0.9500\n",
            "Epoch 94/300\n",
            "301/301 [==============================] - 17s 56ms/step - loss: 0.2832 - accuracy: 0.8861 - val_loss: 0.1067 - val_accuracy: 0.9448\n",
            "Epoch 95/300\n",
            "301/301 [==============================] - 17s 55ms/step - loss: 0.2796 - accuracy: 0.8884 - val_loss: 0.1849 - val_accuracy: 0.9458\n",
            "Epoch 96/300\n",
            "301/301 [==============================] - 19s 64ms/step - loss: 0.2855 - accuracy: 0.8843 - val_loss: 0.1511 - val_accuracy: 0.9516\n",
            "Epoch 97/300\n",
            "301/301 [==============================] - 17s 56ms/step - loss: 0.2789 - accuracy: 0.8893 - val_loss: 0.1030 - val_accuracy: 0.9498\n",
            "Epoch 98/300\n",
            "301/301 [==============================] - 17s 56ms/step - loss: 0.2809 - accuracy: 0.8868 - val_loss: 0.1184 - val_accuracy: 0.9469\n",
            "Epoch 99/300\n",
            "301/301 [==============================] - 17s 56ms/step - loss: 0.2839 - accuracy: 0.8869 - val_loss: 0.0651 - val_accuracy: 0.9489\n",
            "Epoch 100/300\n",
            "301/301 [==============================] - 17s 56ms/step - loss: 0.2808 - accuracy: 0.8893 - val_loss: 0.1439 - val_accuracy: 0.9460\n",
            "Epoch 101/300\n",
            "301/301 [==============================] - 17s 56ms/step - loss: 0.2751 - accuracy: 0.8893 - val_loss: 0.1485 - val_accuracy: 0.9460\n",
            "Epoch 102/300\n",
            "301/301 [==============================] - 17s 56ms/step - loss: 0.2845 - accuracy: 0.8871 - val_loss: 0.0883 - val_accuracy: 0.9501\n",
            "Epoch 103/300\n",
            "301/301 [==============================] - 17s 56ms/step - loss: 0.2901 - accuracy: 0.8848 - val_loss: 0.1098 - val_accuracy: 0.9421\n",
            "Epoch 104/300\n",
            "301/301 [==============================] - 17s 56ms/step - loss: 0.2790 - accuracy: 0.8891 - val_loss: 0.1183 - val_accuracy: 0.9489\n",
            "Epoch 105/300\n",
            "301/301 [==============================] - 17s 57ms/step - loss: 0.2842 - accuracy: 0.8862 - val_loss: 0.1462 - val_accuracy: 0.9488\n",
            "Epoch 106/300\n",
            "301/301 [==============================] - 17s 56ms/step - loss: 0.2805 - accuracy: 0.8886 - val_loss: 0.0835 - val_accuracy: 0.9442\n",
            "Epoch 107/300\n",
            "301/301 [==============================] - 17s 57ms/step - loss: 0.2830 - accuracy: 0.8865 - val_loss: 0.1001 - val_accuracy: 0.9475\n",
            "Epoch 108/300\n",
            "301/301 [==============================] - 17s 56ms/step - loss: 0.2827 - accuracy: 0.8870 - val_loss: 0.0986 - val_accuracy: 0.9466\n",
            "Epoch 109/300\n",
            "301/301 [==============================] - 17s 57ms/step - loss: 0.2832 - accuracy: 0.8849 - val_loss: 0.2805 - val_accuracy: 0.9478\n",
            "Epoch 110/300\n",
            "301/301 [==============================] - 17s 57ms/step - loss: 0.2819 - accuracy: 0.8869 - val_loss: 0.1978 - val_accuracy: 0.9510\n",
            "Epoch 111/300\n",
            "301/301 [==============================] - 18s 58ms/step - loss: 0.2854 - accuracy: 0.8885 - val_loss: 0.1918 - val_accuracy: 0.9509\n",
            "Epoch 112/300\n",
            "301/301 [==============================] - 17s 57ms/step - loss: 0.2747 - accuracy: 0.8914 - val_loss: 0.1315 - val_accuracy: 0.9469\n",
            "Epoch 113/300\n",
            "301/301 [==============================] - 17s 56ms/step - loss: 0.2859 - accuracy: 0.8839 - val_loss: 0.0557 - val_accuracy: 0.9459\n",
            "Epoch 114/300\n",
            "301/301 [==============================] - 17s 57ms/step - loss: 0.2836 - accuracy: 0.8859 - val_loss: 0.2001 - val_accuracy: 0.9370\n",
            "Epoch 115/300\n",
            "301/301 [==============================] - 17s 56ms/step - loss: 0.2822 - accuracy: 0.8875 - val_loss: 0.1774 - val_accuracy: 0.9488\n",
            "Epoch 116/300\n",
            "301/301 [==============================] - 17s 56ms/step - loss: 0.2809 - accuracy: 0.8875 - val_loss: 0.2552 - val_accuracy: 0.9500\n",
            "Epoch 117/300\n",
            "301/301 [==============================] - 17s 56ms/step - loss: 0.2789 - accuracy: 0.8893 - val_loss: 0.1900 - val_accuracy: 0.9456\n",
            "Epoch 118/300\n",
            "301/301 [==============================] - 17s 56ms/step - loss: 0.2816 - accuracy: 0.8873 - val_loss: 0.1891 - val_accuracy: 0.9439\n",
            "Epoch 119/300\n",
            "301/301 [==============================] - 17s 56ms/step - loss: 0.2835 - accuracy: 0.8853 - val_loss: 0.1675 - val_accuracy: 0.9521\n",
            "Epoch 120/300\n",
            "301/301 [==============================] - 17s 56ms/step - loss: 0.2766 - accuracy: 0.8912 - val_loss: 0.1656 - val_accuracy: 0.9472\n",
            "Epoch 121/300\n",
            "301/301 [==============================] - 17s 56ms/step - loss: 0.2831 - accuracy: 0.8870 - val_loss: 0.1390 - val_accuracy: 0.9522\n",
            "Epoch 122/300\n",
            "301/301 [==============================] - 17s 56ms/step - loss: 0.2791 - accuracy: 0.8901 - val_loss: 0.0733 - val_accuracy: 0.9486\n",
            "Epoch 123/300\n",
            "301/301 [==============================] - 17s 56ms/step - loss: 0.2826 - accuracy: 0.8870 - val_loss: 0.1395 - val_accuracy: 0.9370\n",
            "Epoch 124/300\n",
            "301/301 [==============================] - 17s 56ms/step - loss: 0.2811 - accuracy: 0.8895 - val_loss: 0.1394 - val_accuracy: 0.9494\n",
            "Epoch 125/300\n",
            "301/301 [==============================] - 17s 56ms/step - loss: 0.2813 - accuracy: 0.8889 - val_loss: 0.1833 - val_accuracy: 0.9508\n",
            "Epoch 126/300\n",
            "301/301 [==============================] - 17s 55ms/step - loss: 0.2830 - accuracy: 0.8864 - val_loss: 0.1766 - val_accuracy: 0.9504\n",
            "Epoch 127/300\n",
            "301/301 [==============================] - 17s 55ms/step - loss: 0.2863 - accuracy: 0.8853 - val_loss: 0.1174 - val_accuracy: 0.9369\n",
            "Epoch 128/300\n",
            "301/301 [==============================] - 17s 56ms/step - loss: 0.2777 - accuracy: 0.8893 - val_loss: 0.1378 - val_accuracy: 0.9501\n",
            "Epoch 129/300\n",
            "301/301 [==============================] - 17s 56ms/step - loss: 0.2816 - accuracy: 0.8858 - val_loss: 0.0982 - val_accuracy: 0.9489\n",
            "Epoch 130/300\n",
            "301/301 [==============================] - 17s 56ms/step - loss: 0.2833 - accuracy: 0.8881 - val_loss: 0.0712 - val_accuracy: 0.9515\n",
            "Epoch 131/300\n",
            "301/301 [==============================] - 17s 56ms/step - loss: 0.2767 - accuracy: 0.8910 - val_loss: 0.0948 - val_accuracy: 0.9439\n",
            "Epoch 132/300\n",
            "301/301 [==============================] - 17s 55ms/step - loss: 0.2857 - accuracy: 0.8865 - val_loss: 0.1211 - val_accuracy: 0.9517\n",
            "Epoch 133/300\n",
            "301/301 [==============================] - 17s 56ms/step - loss: 0.2801 - accuracy: 0.8897 - val_loss: 0.1682 - val_accuracy: 0.9498\n",
            "Epoch 134/300\n",
            "301/301 [==============================] - 17s 55ms/step - loss: 0.2790 - accuracy: 0.8899 - val_loss: 0.1451 - val_accuracy: 0.9439\n",
            "Epoch 135/300\n",
            "301/301 [==============================] - 17s 56ms/step - loss: 0.2783 - accuracy: 0.8880 - val_loss: 0.0987 - val_accuracy: 0.9503\n",
            "Epoch 136/300\n",
            "301/301 [==============================] - 17s 57ms/step - loss: 0.2804 - accuracy: 0.8879 - val_loss: 0.1035 - val_accuracy: 0.9462\n",
            "Epoch 137/300\n",
            "301/301 [==============================] - 17s 58ms/step - loss: 0.2823 - accuracy: 0.8868 - val_loss: 0.1907 - val_accuracy: 0.9511\n",
            "Epoch 138/300\n",
            "301/301 [==============================] - 16s 55ms/step - loss: 0.2792 - accuracy: 0.8887 - val_loss: 0.1661 - val_accuracy: 0.9430\n",
            "Epoch 139/300\n",
            "301/301 [==============================] - 17s 56ms/step - loss: 0.2838 - accuracy: 0.8850 - val_loss: 0.1919 - val_accuracy: 0.9490\n",
            "Epoch 140/300\n",
            "301/301 [==============================] - 17s 55ms/step - loss: 0.2790 - accuracy: 0.8899 - val_loss: 0.1612 - val_accuracy: 0.9478\n",
            "Epoch 141/300\n",
            "301/301 [==============================] - 17s 56ms/step - loss: 0.2750 - accuracy: 0.8922 - val_loss: 0.0785 - val_accuracy: 0.9499\n",
            "Epoch 142/300\n",
            "301/301 [==============================] - 17s 56ms/step - loss: 0.2848 - accuracy: 0.8885 - val_loss: 0.1244 - val_accuracy: 0.9476\n",
            "Epoch 143/300\n",
            "301/301 [==============================] - 17s 55ms/step - loss: 0.2810 - accuracy: 0.8872 - val_loss: 0.1346 - val_accuracy: 0.9475\n",
            "Epoch 144/300\n",
            "301/301 [==============================] - 17s 56ms/step - loss: 0.2844 - accuracy: 0.8867 - val_loss: 0.1309 - val_accuracy: 0.9503\n",
            "Epoch 145/300\n",
            "301/301 [==============================] - 17s 56ms/step - loss: 0.2830 - accuracy: 0.8871 - val_loss: 0.2001 - val_accuracy: 0.9501\n",
            "Epoch 146/300\n",
            "301/301 [==============================] - 17s 56ms/step - loss: 0.2761 - accuracy: 0.8892 - val_loss: 0.0954 - val_accuracy: 0.9486\n",
            "Epoch 147/300\n",
            "301/301 [==============================] - 17s 56ms/step - loss: 0.2841 - accuracy: 0.8879 - val_loss: 0.1526 - val_accuracy: 0.9445\n",
            "Epoch 148/300\n",
            "301/301 [==============================] - 17s 57ms/step - loss: 0.2806 - accuracy: 0.8882 - val_loss: 0.2731 - val_accuracy: 0.9484\n",
            "Epoch 149/300\n",
            "301/301 [==============================] - 17s 56ms/step - loss: 0.2834 - accuracy: 0.8874 - val_loss: 0.0899 - val_accuracy: 0.9498\n",
            "Epoch 150/300\n",
            "301/301 [==============================] - 17s 55ms/step - loss: 0.2823 - accuracy: 0.8886 - val_loss: 0.1255 - val_accuracy: 0.9509\n",
            "Epoch 151/300\n",
            "301/301 [==============================] - 17s 55ms/step - loss: 0.2802 - accuracy: 0.8860 - val_loss: 0.1318 - val_accuracy: 0.9481\n",
            "Epoch 152/300\n",
            "301/301 [==============================] - 17s 56ms/step - loss: 0.2835 - accuracy: 0.8856 - val_loss: 0.1370 - val_accuracy: 0.9514\n",
            "Epoch 153/300\n",
            "301/301 [==============================] - 17s 56ms/step - loss: 0.2855 - accuracy: 0.8861 - val_loss: 0.1355 - val_accuracy: 0.9495\n",
            "Epoch 154/300\n",
            "301/301 [==============================] - 17s 56ms/step - loss: 0.2747 - accuracy: 0.8920 - val_loss: 0.1388 - val_accuracy: 0.9498\n",
            "Epoch 155/300\n",
            "301/301 [==============================] - 17s 56ms/step - loss: 0.2854 - accuracy: 0.8861 - val_loss: 0.1822 - val_accuracy: 0.9416\n",
            "Epoch 156/300\n",
            "301/301 [==============================] - 17s 56ms/step - loss: 0.2818 - accuracy: 0.8890 - val_loss: 0.0754 - val_accuracy: 0.9438\n",
            "Epoch 157/300\n",
            "301/301 [==============================] - 17s 56ms/step - loss: 0.2852 - accuracy: 0.8847 - val_loss: 0.1032 - val_accuracy: 0.9484\n",
            "Epoch 158/300\n",
            "301/301 [==============================] - 17s 57ms/step - loss: 0.2805 - accuracy: 0.8882 - val_loss: 0.1437 - val_accuracy: 0.9475\n",
            "Epoch 159/300\n",
            "301/301 [==============================] - 17s 57ms/step - loss: 0.2821 - accuracy: 0.8872 - val_loss: 0.0766 - val_accuracy: 0.9478\n",
            "Epoch 160/300\n",
            "301/301 [==============================] - 17s 57ms/step - loss: 0.2852 - accuracy: 0.8851 - val_loss: 0.1556 - val_accuracy: 0.9514\n",
            "Epoch 161/300\n",
            "301/301 [==============================] - 17s 57ms/step - loss: 0.2833 - accuracy: 0.8857 - val_loss: 0.1302 - val_accuracy: 0.9484\n",
            "Epoch 162/300\n",
            "301/301 [==============================] - 17s 57ms/step - loss: 0.2809 - accuracy: 0.8881 - val_loss: 0.1008 - val_accuracy: 0.9488\n",
            "Epoch 163/300\n",
            "301/301 [==============================] - 17s 56ms/step - loss: 0.2833 - accuracy: 0.8848 - val_loss: 0.2248 - val_accuracy: 0.9486\n",
            "Epoch 164/300\n",
            "301/301 [==============================] - 17s 56ms/step - loss: 0.2766 - accuracy: 0.8890 - val_loss: 0.2171 - val_accuracy: 0.9503\n",
            "Epoch 165/300\n",
            "301/301 [==============================] - 17s 56ms/step - loss: 0.2773 - accuracy: 0.8912 - val_loss: 0.2160 - val_accuracy: 0.9356\n",
            "Epoch 166/300\n",
            "301/301 [==============================] - 17s 55ms/step - loss: 0.2859 - accuracy: 0.8878 - val_loss: 0.1791 - val_accuracy: 0.9383\n",
            "Epoch 167/300\n",
            "301/301 [==============================] - 17s 56ms/step - loss: 0.2804 - accuracy: 0.8880 - val_loss: 0.1143 - val_accuracy: 0.9501\n",
            "Epoch 168/300\n",
            "301/301 [==============================] - 17s 56ms/step - loss: 0.2865 - accuracy: 0.8870 - val_loss: 0.1504 - val_accuracy: 0.9506\n",
            "Epoch 169/300\n",
            "301/301 [==============================] - 17s 56ms/step - loss: 0.2823 - accuracy: 0.8881 - val_loss: 0.1153 - val_accuracy: 0.9432\n",
            "Epoch 170/300\n",
            "301/301 [==============================] - 17s 55ms/step - loss: 0.2753 - accuracy: 0.8905 - val_loss: 0.1404 - val_accuracy: 0.9504\n",
            "Epoch 171/300\n",
            "301/301 [==============================] - 17s 55ms/step - loss: 0.2788 - accuracy: 0.8879 - val_loss: 0.1244 - val_accuracy: 0.9511\n",
            "Epoch 172/300\n",
            "301/301 [==============================] - 17s 55ms/step - loss: 0.2779 - accuracy: 0.8888 - val_loss: 0.1149 - val_accuracy: 0.9499\n",
            "Epoch 173/300\n",
            "301/301 [==============================] - 17s 56ms/step - loss: 0.2813 - accuracy: 0.8886 - val_loss: 0.0912 - val_accuracy: 0.9439\n",
            "Epoch 174/300\n",
            "301/301 [==============================] - 17s 56ms/step - loss: 0.2796 - accuracy: 0.8886 - val_loss: 0.1939 - val_accuracy: 0.9490\n",
            "Epoch 175/300\n",
            "301/301 [==============================] - 17s 55ms/step - loss: 0.2761 - accuracy: 0.8910 - val_loss: 0.1414 - val_accuracy: 0.9514\n",
            "Epoch 176/300\n",
            "301/301 [==============================] - 17s 55ms/step - loss: 0.2845 - accuracy: 0.8860 - val_loss: 0.1641 - val_accuracy: 0.9503\n",
            "Epoch 177/300\n",
            "301/301 [==============================] - 17s 56ms/step - loss: 0.2839 - accuracy: 0.8848 - val_loss: 0.0929 - val_accuracy: 0.9500\n",
            "Epoch 178/300\n",
            "301/301 [==============================] - 17s 56ms/step - loss: 0.2809 - accuracy: 0.8892 - val_loss: 0.1014 - val_accuracy: 0.9503\n",
            "Epoch 179/300\n",
            "301/301 [==============================] - 17s 56ms/step - loss: 0.2696 - accuracy: 0.8910 - val_loss: 0.1499 - val_accuracy: 0.9481\n",
            "Epoch 180/300\n",
            "301/301 [==============================] - 17s 55ms/step - loss: 0.2841 - accuracy: 0.8862 - val_loss: 0.0638 - val_accuracy: 0.9478\n",
            "Epoch 181/300\n",
            "301/301 [==============================] - 17s 56ms/step - loss: 0.2735 - accuracy: 0.8909 - val_loss: 0.1281 - val_accuracy: 0.9460\n",
            "Epoch 182/300\n",
            "301/301 [==============================] - 17s 57ms/step - loss: 0.2800 - accuracy: 0.8872 - val_loss: 0.2428 - val_accuracy: 0.9476\n",
            "Epoch 183/300\n",
            "301/301 [==============================] - 17s 56ms/step - loss: 0.2832 - accuracy: 0.8874 - val_loss: 0.1302 - val_accuracy: 0.9489\n",
            "Epoch 184/300\n",
            "301/301 [==============================] - 17s 56ms/step - loss: 0.2816 - accuracy: 0.8860 - val_loss: 0.2935 - val_accuracy: 0.9456\n",
            "Epoch 185/300\n",
            "301/301 [==============================] - 17s 57ms/step - loss: 0.2845 - accuracy: 0.8877 - val_loss: 0.0877 - val_accuracy: 0.9442\n",
            "Epoch 186/300\n",
            "301/301 [==============================] - 17s 56ms/step - loss: 0.2779 - accuracy: 0.8900 - val_loss: 0.1908 - val_accuracy: 0.9460\n",
            "Epoch 187/300\n",
            "301/301 [==============================] - 17s 57ms/step - loss: 0.2795 - accuracy: 0.8897 - val_loss: 0.1672 - val_accuracy: 0.9519\n",
            "Epoch 188/300\n",
            "301/301 [==============================] - 17s 56ms/step - loss: 0.2764 - accuracy: 0.8909 - val_loss: 0.1187 - val_accuracy: 0.9492\n",
            "Epoch 189/300\n",
            "301/301 [==============================] - 17s 57ms/step - loss: 0.2824 - accuracy: 0.8879 - val_loss: 0.1157 - val_accuracy: 0.9443\n",
            "Epoch 190/300\n",
            "301/301 [==============================] - 17s 56ms/step - loss: 0.2780 - accuracy: 0.8881 - val_loss: 0.4022 - val_accuracy: 0.9512\n",
            "Epoch 191/300\n",
            "301/301 [==============================] - 17s 56ms/step - loss: 0.2869 - accuracy: 0.8833 - val_loss: 0.1095 - val_accuracy: 0.9475\n",
            "Epoch 192/300\n",
            "301/301 [==============================] - 17s 56ms/step - loss: 0.2806 - accuracy: 0.8899 - val_loss: 0.1623 - val_accuracy: 0.9509\n",
            "Epoch 193/300\n",
            "301/301 [==============================] - 17s 56ms/step - loss: 0.2806 - accuracy: 0.8885 - val_loss: 0.1287 - val_accuracy: 0.9467\n",
            "Epoch 194/300\n",
            "301/301 [==============================] - 17s 55ms/step - loss: 0.2838 - accuracy: 0.8878 - val_loss: 0.1264 - val_accuracy: 0.9462\n",
            "Epoch 195/300\n",
            "301/301 [==============================] - 17s 56ms/step - loss: 0.2766 - accuracy: 0.8896 - val_loss: 0.2019 - val_accuracy: 0.9505\n",
            "Epoch 196/300\n",
            "301/301 [==============================] - 17s 56ms/step - loss: 0.2831 - accuracy: 0.8851 - val_loss: 0.0879 - val_accuracy: 0.9459\n",
            "Epoch 197/300\n",
            "301/301 [==============================] - 17s 57ms/step - loss: 0.2745 - accuracy: 0.8910 - val_loss: 0.0674 - val_accuracy: 0.9509\n",
            "Epoch 198/300\n",
            "301/301 [==============================] - 17s 56ms/step - loss: 0.2821 - accuracy: 0.8866 - val_loss: 0.1888 - val_accuracy: 0.9486\n",
            "Epoch 199/300\n",
            "301/301 [==============================] - 17s 56ms/step - loss: 0.2834 - accuracy: 0.8896 - val_loss: 0.1429 - val_accuracy: 0.9516\n",
            "Epoch 200/300\n",
            "301/301 [==============================] - 17s 56ms/step - loss: 0.2808 - accuracy: 0.8869 - val_loss: 0.1576 - val_accuracy: 0.9422\n",
            "Epoch 201/300\n",
            "301/301 [==============================] - 17s 58ms/step - loss: 0.2803 - accuracy: 0.8872 - val_loss: 0.1910 - val_accuracy: 0.9490\n",
            "Epoch 202/300\n",
            "301/301 [==============================] - 17s 57ms/step - loss: 0.2764 - accuracy: 0.8910 - val_loss: 0.0776 - val_accuracy: 0.9461\n",
            "Epoch 203/300\n",
            "301/301 [==============================] - 17s 58ms/step - loss: 0.2839 - accuracy: 0.8858 - val_loss: 0.1912 - val_accuracy: 0.9517\n",
            "Epoch 204/300\n",
            "301/301 [==============================] - 17s 57ms/step - loss: 0.2747 - accuracy: 0.8903 - val_loss: 0.1468 - val_accuracy: 0.9514\n",
            "Epoch 205/300\n",
            "301/301 [==============================] - 17s 56ms/step - loss: 0.2832 - accuracy: 0.8885 - val_loss: 0.2492 - val_accuracy: 0.9515\n",
            "Epoch 206/300\n",
            "301/301 [==============================] - 17s 56ms/step - loss: 0.2797 - accuracy: 0.8892 - val_loss: 0.2522 - val_accuracy: 0.9488\n",
            "Epoch 207/300\n",
            "301/301 [==============================] - 17s 56ms/step - loss: 0.2854 - accuracy: 0.8867 - val_loss: 0.2513 - val_accuracy: 0.9477\n",
            "Epoch 208/300\n",
            "301/301 [==============================] - 17s 56ms/step - loss: 0.2810 - accuracy: 0.8890 - val_loss: 0.1169 - val_accuracy: 0.9461\n",
            "Epoch 209/300\n",
            "301/301 [==============================] - 17s 56ms/step - loss: 0.2801 - accuracy: 0.8877 - val_loss: 0.1457 - val_accuracy: 0.9508\n",
            "Epoch 210/300\n",
            "301/301 [==============================] - 17s 55ms/step - loss: 0.2776 - accuracy: 0.8902 - val_loss: 0.1611 - val_accuracy: 0.9421\n",
            "Epoch 211/300\n",
            "301/301 [==============================] - 17s 57ms/step - loss: 0.2826 - accuracy: 0.8871 - val_loss: 0.0546 - val_accuracy: 0.9437\n",
            "Epoch 212/300\n",
            "301/301 [==============================] - 17s 57ms/step - loss: 0.2788 - accuracy: 0.8902 - val_loss: 0.1848 - val_accuracy: 0.9487\n",
            "Epoch 213/300\n",
            "301/301 [==============================] - 17s 56ms/step - loss: 0.2823 - accuracy: 0.8837 - val_loss: 0.1484 - val_accuracy: 0.9487\n",
            "Epoch 214/300\n",
            "301/301 [==============================] - 17s 57ms/step - loss: 0.2831 - accuracy: 0.8877 - val_loss: 0.1248 - val_accuracy: 0.9487\n",
            "Epoch 215/300\n",
            "301/301 [==============================] - 17s 57ms/step - loss: 0.2749 - accuracy: 0.8907 - val_loss: 0.0715 - val_accuracy: 0.9508\n",
            "Epoch 216/300\n",
            "301/301 [==============================] - 17s 57ms/step - loss: 0.2882 - accuracy: 0.8862 - val_loss: 0.1367 - val_accuracy: 0.9514\n",
            "Epoch 217/300\n",
            "301/301 [==============================] - 17s 57ms/step - loss: 0.2797 - accuracy: 0.8876 - val_loss: 0.1210 - val_accuracy: 0.9453\n",
            "Epoch 218/300\n",
            "301/301 [==============================] - 17s 57ms/step - loss: 0.2783 - accuracy: 0.8885 - val_loss: 0.1759 - val_accuracy: 0.9503\n",
            "Epoch 219/300\n",
            "301/301 [==============================] - 17s 57ms/step - loss: 0.2761 - accuracy: 0.8917 - val_loss: 0.1309 - val_accuracy: 0.9520\n",
            "Epoch 220/300\n",
            "301/301 [==============================] - 17s 57ms/step - loss: 0.2831 - accuracy: 0.8877 - val_loss: 0.2574 - val_accuracy: 0.9460\n",
            "Epoch 221/300\n",
            "301/301 [==============================] - 17s 57ms/step - loss: 0.2828 - accuracy: 0.8861 - val_loss: 0.1698 - val_accuracy: 0.9454\n",
            "Epoch 222/300\n",
            "301/301 [==============================] - 17s 57ms/step - loss: 0.2839 - accuracy: 0.8872 - val_loss: 0.1599 - val_accuracy: 0.9515\n",
            "Epoch 223/300\n",
            "301/301 [==============================] - 17s 56ms/step - loss: 0.2791 - accuracy: 0.8893 - val_loss: 0.1621 - val_accuracy: 0.9519\n",
            "Epoch 224/300\n",
            "301/301 [==============================] - 17s 57ms/step - loss: 0.2782 - accuracy: 0.8883 - val_loss: 0.1473 - val_accuracy: 0.9522\n",
            "Epoch 225/300\n",
            "301/301 [==============================] - 17s 58ms/step - loss: 0.2868 - accuracy: 0.8836 - val_loss: 0.1804 - val_accuracy: 0.9486\n",
            "Epoch 226/300\n",
            "301/301 [==============================] - 17s 57ms/step - loss: 0.2798 - accuracy: 0.8882 - val_loss: 0.1490 - val_accuracy: 0.9520\n",
            "Epoch 227/300\n",
            "301/301 [==============================] - 17s 57ms/step - loss: 0.2804 - accuracy: 0.8863 - val_loss: 0.0950 - val_accuracy: 0.9444\n",
            "Epoch 228/300\n",
            "301/301 [==============================] - 17s 58ms/step - loss: 0.2857 - accuracy: 0.8844 - val_loss: 0.1259 - val_accuracy: 0.9472\n",
            "Epoch 229/300\n",
            "301/301 [==============================] - 17s 58ms/step - loss: 0.2826 - accuracy: 0.8865 - val_loss: 0.0596 - val_accuracy: 0.9462\n",
            "Epoch 230/300\n",
            "301/301 [==============================] - 17s 58ms/step - loss: 0.2834 - accuracy: 0.8872 - val_loss: 0.1379 - val_accuracy: 0.9406\n",
            "Epoch 231/300\n",
            "301/301 [==============================] - 18s 58ms/step - loss: 0.2760 - accuracy: 0.8888 - val_loss: 0.1506 - val_accuracy: 0.9490\n",
            "Epoch 232/300\n",
            "301/301 [==============================] - 17s 58ms/step - loss: 0.2852 - accuracy: 0.8864 - val_loss: 0.1012 - val_accuracy: 0.9519\n",
            "Epoch 233/300\n",
            "301/301 [==============================] - 17s 57ms/step - loss: 0.2852 - accuracy: 0.8843 - val_loss: 0.1021 - val_accuracy: 0.9504\n",
            "Epoch 234/300\n",
            "301/301 [==============================] - 17s 57ms/step - loss: 0.2791 - accuracy: 0.8880 - val_loss: 0.1329 - val_accuracy: 0.9501\n",
            "Epoch 235/300\n",
            "301/301 [==============================] - 17s 57ms/step - loss: 0.2782 - accuracy: 0.8898 - val_loss: 0.1370 - val_accuracy: 0.9437\n",
            "Epoch 236/300\n",
            "301/301 [==============================] - 17s 57ms/step - loss: 0.2801 - accuracy: 0.8875 - val_loss: 0.1117 - val_accuracy: 0.9509\n",
            "Epoch 237/300\n",
            "301/301 [==============================] - 23s 75ms/step - loss: 0.2782 - accuracy: 0.8883 - val_loss: 0.1272 - val_accuracy: 0.9517\n",
            "Epoch 238/300\n",
            "301/301 [==============================] - 17s 57ms/step - loss: 0.2807 - accuracy: 0.8877 - val_loss: 0.1013 - val_accuracy: 0.9481\n",
            "Epoch 239/300\n",
            "301/301 [==============================] - 18s 59ms/step - loss: 0.2819 - accuracy: 0.8877 - val_loss: 0.2733 - val_accuracy: 0.9508\n",
            "Epoch 240/300\n",
            "301/301 [==============================] - 17s 57ms/step - loss: 0.2828 - accuracy: 0.8855 - val_loss: 0.1520 - val_accuracy: 0.9405\n",
            "Epoch 241/300\n",
            "301/301 [==============================] - 17s 57ms/step - loss: 0.2823 - accuracy: 0.8859 - val_loss: 0.1925 - val_accuracy: 0.9522\n",
            "Epoch 242/300\n",
            "301/301 [==============================] - 17s 58ms/step - loss: 0.2726 - accuracy: 0.8894 - val_loss: 0.1333 - val_accuracy: 0.9482\n",
            "Epoch 243/300\n",
            "301/301 [==============================] - 17s 58ms/step - loss: 0.2817 - accuracy: 0.8873 - val_loss: 0.0898 - val_accuracy: 0.9469\n",
            "Epoch 244/300\n",
            "301/301 [==============================] - 18s 58ms/step - loss: 0.2865 - accuracy: 0.8873 - val_loss: 0.1630 - val_accuracy: 0.9475\n",
            "Epoch 245/300\n",
            "301/301 [==============================] - 17s 58ms/step - loss: 0.2770 - accuracy: 0.8889 - val_loss: 0.1891 - val_accuracy: 0.9409\n",
            "Epoch 246/300\n",
            " 67/301 [=====>........................] - ETA: 10s - loss: 0.2867 - accuracy: 0.8850Buffered data was truncated after reaching the output size limit."
          ],
          "name": "stdout"
        }
      ]
    },
    {
      "cell_type": "code",
      "metadata": {
        "id": "xs6iNY4Vo06-",
        "colab_type": "code",
        "colab": {
          "base_uri": "https://localhost:8080/",
          "height": 629
        },
        "outputId": "6f6a10eb-3eb0-4a7a-ddf8-1f721a932df1"
      },
      "source": [
        "model.summary()"
      ],
      "execution_count": null,
      "outputs": [
        {
          "output_type": "stream",
          "text": [
            "Model: \"sequential_1\"\n",
            "_________________________________________________________________\n",
            "Layer (type)                 Output Shape              Param #   \n",
            "=================================================================\n",
            "model_1 (Model)              (None, 12, 12, 128)       260160    \n",
            "_________________________________________________________________\n",
            "max_pooling2d_1 (MaxPooling2 (None, 6, 6, 128)         0         \n",
            "_________________________________________________________________\n",
            "batch_normalization_1 (Batch (None, 6, 6, 128)         512       \n",
            "_________________________________________________________________\n",
            "dropout_1 (Dropout)          (None, 6, 6, 128)         0         \n",
            "_________________________________________________________________\n",
            "conv2d_1 (Conv2D)            (None, 4, 4, 32)          36896     \n",
            "_________________________________________________________________\n",
            "max_pooling2d_2 (MaxPooling2 (None, 2, 2, 32)          0         \n",
            "_________________________________________________________________\n",
            "batch_normalization_2 (Batch (None, 2, 2, 32)          128       \n",
            "_________________________________________________________________\n",
            "max_pooling2d_3 (MaxPooling2 (None, 1, 1, 32)          0         \n",
            "_________________________________________________________________\n",
            "dropout_2 (Dropout)          (None, 1, 1, 32)          0         \n",
            "_________________________________________________________________\n",
            "flatten_1 (Flatten)          (None, 32)                0         \n",
            "_________________________________________________________________\n",
            "dense_1 (Dense)              (None, 512)               16896     \n",
            "_________________________________________________________________\n",
            "batch_normalization_3 (Batch (None, 512)               2048      \n",
            "_________________________________________________________________\n",
            "dropout_3 (Dropout)          (None, 512)               0         \n",
            "_________________________________________________________________\n",
            "dense_2 (Dense)              (None, 2)                 1026      \n",
            "=================================================================\n",
            "Total params: 317,666\n",
            "Trainable params: 36,960\n",
            "Non-trainable params: 280,706\n",
            "_________________________________________________________________\n"
          ],
          "name": "stdout"
        }
      ]
    },
    {
      "cell_type": "code",
      "metadata": {
        "id": "RGvk-4MdmufK",
        "colab_type": "code",
        "colab": {
          "base_uri": "https://localhost:8080/",
          "height": 34
        },
        "outputId": "d8bb9740-dfeb-4dfc-d4d0-7cc147d125f2"
      },
      "source": [
        "len(model.layers)"
      ],
      "execution_count": null,
      "outputs": [
        {
          "output_type": "execute_result",
          "data": {
            "text/plain": [
              "14"
            ]
          },
          "metadata": {
            "tags": []
          },
          "execution_count": 59
        }
      ]
    },
    {
      "cell_type": "code",
      "metadata": {
        "id": "2QrYsPddQNUO",
        "colab_type": "code",
        "colab": {
          "base_uri": "https://localhost:8080/",
          "height": 629
        },
        "outputId": "b6102ba2-a07b-4111-eb51-fafb6fec7e35"
      },
      "source": [
        "# fine Tuning\n",
        "for i in range(4):\n",
        "  model.layers[0].layers[i].trainable=True\n",
        "for i in range(4, 7):\n",
        "  model.layers[0].layers[i].trainable=True\n",
        "for i in range(1,4):\n",
        "  model.layers[i].trainable=True\n",
        "for i in range(4, 7):\n",
        "  model.layers[i].trainable=True\n",
        "for i in range(7, len(model.layers)):\n",
        "  model.layers[i].trainable=True\n",
        "'''model.compile(loss='categorical_crossentropy',\n",
        "              optimizer=opt,\n",
        "              metrics=['accuracy'])'''\n",
        "model.compile(loss='categorical_crossentropy',\n",
        "              optimizer=optimizers.SGD(lr=1e-4, momentum=0.9),\n",
        "              metrics=['accuracy'])\n",
        "model.summary()"
      ],
      "execution_count": null,
      "outputs": [
        {
          "output_type": "stream",
          "text": [
            "Model: \"sequential_2\"\n",
            "_________________________________________________________________\n",
            "Layer (type)                 Output Shape              Param #   \n",
            "=================================================================\n",
            "model_2 (Model)              (None, 12, 12, 128)       260160    \n",
            "_________________________________________________________________\n",
            "max_pooling2d_4 (MaxPooling2 (None, 6, 6, 128)         0         \n",
            "_________________________________________________________________\n",
            "batch_normalization_4 (Batch (None, 6, 6, 128)         512       \n",
            "_________________________________________________________________\n",
            "dropout_4 (Dropout)          (None, 6, 6, 128)         0         \n",
            "_________________________________________________________________\n",
            "conv2d_2 (Conv2D)            (None, 4, 4, 32)          36896     \n",
            "_________________________________________________________________\n",
            "max_pooling2d_5 (MaxPooling2 (None, 2, 2, 32)          0         \n",
            "_________________________________________________________________\n",
            "batch_normalization_5 (Batch (None, 2, 2, 32)          128       \n",
            "_________________________________________________________________\n",
            "max_pooling2d_6 (MaxPooling2 (None, 1, 1, 32)          0         \n",
            "_________________________________________________________________\n",
            "dropout_5 (Dropout)          (None, 1, 1, 32)          0         \n",
            "_________________________________________________________________\n",
            "flatten_2 (Flatten)          (None, 32)                0         \n",
            "_________________________________________________________________\n",
            "dense_3 (Dense)              (None, 512)               16896     \n",
            "_________________________________________________________________\n",
            "batch_normalization_6 (Batch (None, 512)               2048      \n",
            "_________________________________________________________________\n",
            "dropout_6 (Dropout)          (None, 512)               0         \n",
            "_________________________________________________________________\n",
            "dense_4 (Dense)              (None, 2)                 1026      \n",
            "=================================================================\n",
            "Total params: 317,666\n",
            "Trainable params: 56,162\n",
            "Non-trainable params: 261,504\n",
            "_________________________________________________________________\n"
          ],
          "name": "stdout"
        }
      ]
    },
    {
      "cell_type": "code",
      "metadata": {
        "id": "2_z86dPkZ7A2",
        "colab_type": "code",
        "colab": {}
      },
      "source": [
        "from keras.models import Sequential,save_model, load_model\n",
        "save_model(model, '/content/drive/My Drive/vgg_model_1st_untrained.h5')"
      ],
      "execution_count": null,
      "outputs": []
    },
    {
      "cell_type": "code",
      "metadata": {
        "id": "T--mV5MamWFE",
        "colab_type": "code",
        "colab": {}
      },
      "source": [
        "new_model=load_model('/content/save_model/M/model.h5',compile=True)"
      ],
      "execution_count": null,
      "outputs": []
    },
    {
      "cell_type": "code",
      "metadata": {
        "id": "ItBlF6N6u1Uy",
        "colab_type": "code",
        "colab": {}
      },
      "source": [
        "new_model=model\n",
        "predict= new_model.evaluate_generator(val_generator)"
      ],
      "execution_count": null,
      "outputs": []
    },
    {
      "cell_type": "code",
      "metadata": {
        "id": "sbq21sUqvtmk",
        "colab_type": "code",
        "colab": {
          "base_uri": "https://localhost:8080/",
          "height": 51
        },
        "outputId": "c689e79d-25a3-453f-e04c-21750281d39d"
      },
      "source": [
        "print(f'LOSS ON TEST DATA AFTER DATA AUGMENTATION : {predict[0]}')\n",
        "print(f'ACCURACY ON TEST DATA AFTER DATA AUGMENTATION : {predict[1]}')"
      ],
      "execution_count": null,
      "outputs": [
        {
          "output_type": "stream",
          "text": [
            "LOSS ON TEST DATA AFTER DATA AUGMENTATION : 0.048575326800346375\n",
            "ACCURACY ON TEST DATA AFTER DATA AUGMENTATION : 0.9574262499809265\n"
          ],
          "name": "stdout"
        }
      ]
    }
  ]
}